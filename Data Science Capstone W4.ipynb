{
 "cells": [
  {
   "cell_type": "markdown",
   "metadata": {
    "collapsed": true
   },
   "source": [
    "# Introduction / Business Problem"
   ]
  },
  {
   "cell_type": "markdown",
   "metadata": {},
   "source": [
    "- The main problem people have when they are trying to have their breakfast, lunch or dinner is that it can be difficult to find the a suitable restaurant, for example a Japanese restaurant that serves Japanese cuisine, to eat due to imperfect knowledge of the restaurants that are present in the area\n",
    "- This may leads to great time wastage experienced by consumers when attempting to find a place to eat what they want, hence discouraging people to explore different food offered by other restaurants as they do not want to waste too much time going out of their way to find new food especially if that person is a busy person\n",
    "- Additionally, this may make new restaurant business difficult to complete in the market as their resaurants are not as well-knowned and consumers may not be that willing to try what they have to offered especially when the restaurant is located far from the consumer\n",
    "- Hence, this problem affecting both consumers and restaurant owners should be solved and I will be attempting to do so by implemting Data Science"
   ]
  },
  {
   "cell_type": "markdown",
   "metadata": {},
   "source": [
    "# Data"
   ]
  },
  {
   "cell_type": "markdown",
   "metadata": {},
   "source": [
    "- I will be using data from Foursquare API as Foursquare has many information about restaurants present in its database\n",
    "- Some of the features/details I will be extracting are the location of the restaurant, what type of food it serves and number of restaurants present in an area\n",
    "- I will then use these data to create a cluster map including marker indicators that shows where the restaurant is on the map, what type of food is being served, reviews of past customers and many more!\n",
    "- I will be mainly using data pertaining to New York City as New York City is a bustling city where there are many busy workers and tourists looking for some unique/delicious food"
   ]
  },
  {
   "cell_type": "code",
   "execution_count": null,
   "metadata": {},
   "outputs": [],
   "source": []
  }
 ],
 "metadata": {
  "kernelspec": {
   "display_name": "Python 3.5",
   "language": "python",
   "name": "python3"
  },
  "language_info": {
   "codemirror_mode": {
    "name": "ipython",
    "version": 3
   },
   "file_extension": ".py",
   "mimetype": "text/x-python",
   "name": "python",
   "nbconvert_exporter": "python",
   "pygments_lexer": "ipython3",
   "version": "3.5.5"
  }
 },
 "nbformat": 4,
 "nbformat_minor": 1
}
